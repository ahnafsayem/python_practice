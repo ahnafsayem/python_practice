{
 "cells": [
  {
   "cell_type": "markdown",
   "id": "b91b1bc2",
   "metadata": {},
   "source": [
    "## 1. Keep the first, middle, and last characters of an input string."
   ]
  },
  {
   "cell_type": "code",
   "execution_count": 3,
   "id": "ea2f16ef",
   "metadata": {},
   "outputs": [
    {
     "name": "stdout",
     "output_type": "stream",
     "text": [
      "Enter a string consisting more than 3 words: SAYEM\n",
      "Result: SYM\n"
     ]
    }
   ],
   "source": [
    "def keep_first_middle_last(s):\n",
    "    \n",
    "    first = s[0]\n",
    "    middle = s[len(s)//2]\n",
    "    last = s[-1]\n",
    "    \n",
    "    return first + middle + last\n",
    "\n",
    "s = input(\"Enter a string consisting more than 3 words: \")\n",
    "result = keep_first_middle_last(s)\n",
    "print(\"Result:\", result)\n"
   ]
  },
  {
   "cell_type": "markdown",
   "id": "195d9a77",
   "metadata": {},
   "source": [
    "## 2. Arrange string characters such that lowercase letters should come first."
   ]
  },
  {
   "cell_type": "code",
   "execution_count": 6,
   "id": "af7c4372",
   "metadata": {
    "slideshow": {
     "slide_type": "notes"
    }
   },
   "outputs": [
    {
     "name": "stdout",
     "output_type": "stream",
     "text": [
      "Enter a string: ahnafSAyem\n",
      "Result: ahnafyemSA\n"
     ]
    }
   ],
   "source": [
    "def arrange_string(s):\n",
    "    \n",
    "    lower = \"\"         #seperate two strings\n",
    "    upper = \"\"\n",
    "    \n",
    "    for char in s:\n",
    "        if char.islower():\n",
    "            lower += char\n",
    "        else:\n",
    "            upper += char\n",
    "            \n",
    "    result = lower + upper\n",
    "    \n",
    "    return result\n",
    "\n",
    "s = input(\"Enter a string: \")\n",
    "result = arrange_string(s)\n",
    "print(\"Result:\", result)\n"
   ]
  },
  {
   "cell_type": "markdown",
   "id": "d2fb1b20",
   "metadata": {},
   "source": [
    "## 3. Count all letters, digits, and special symbols from a given string."
   ]
  },
  {
   "cell_type": "code",
   "execution_count": 7,
   "id": "14639186",
   "metadata": {},
   "outputs": [
    {
     "name": "stdout",
     "output_type": "stream",
     "text": [
      "Enter a string: P@#yn26at^&i5ve, \n",
      "Chars: 8 , Digits: 3 , Symbols: 6\n"
     ]
    }
   ],
   "source": [
    "def count_chars_digits_symbols(s):\n",
    "    \n",
    "    chars = 0\n",
    "    digits = 0\n",
    "    symbols = 0\n",
    "    \n",
    "    for char in s:\n",
    "        \n",
    "        # Check if the character is a letter\n",
    "        if char.isalpha():\n",
    "            chars += 1\n",
    "        \n",
    "        # Check if the character is a digit\n",
    "        elif char.isdigit():\n",
    "            digits += 1\n",
    "        \n",
    "        # Otherwise, a special symbol\n",
    "        else:\n",
    "            symbols += 1\n",
    "\n",
    "    return (chars, digits, symbols)\n",
    "\n",
    "s = input(\"Enter a string: \")\n",
    "result = count_chars_digits_symbols(s)\n",
    "print(\"Chars:\", result[0], \", Digits:\", result[1], \", Symbols:\", result[2])\n"
   ]
  },
  {
   "cell_type": "markdown",
   "id": "fbb053ec",
   "metadata": {},
   "source": [
    "## 4. Split a string on hyphens."
   ]
  },
  {
   "cell_type": "code",
   "execution_count": 10,
   "id": "29c3c963",
   "metadata": {},
   "outputs": [
    {
     "name": "stdout",
     "output_type": "stream",
     "text": [
      "['Ahnaf', 'Sayem', 'Protikkha']\n"
     ]
    }
   ],
   "source": [
    "string = \"Ahnaf-Sayem-Protikkha\"\n",
    "list01 = string.split(\"-\")\n",
    "print(list01)"
   ]
  },
  {
   "cell_type": "markdown",
   "id": "9efa6adf",
   "metadata": {},
   "source": [
    "## 5. Reverse a given string."
   ]
  },
  {
   "cell_type": "code",
   "execution_count": 15,
   "id": "ed8b72b3",
   "metadata": {},
   "outputs": [
    {
     "name": "stdout",
     "output_type": "stream",
     "text": [
      "meyaS fanhA\n"
     ]
    }
   ],
   "source": [
    "string = \"Ahnaf Sayem\"\n",
    "list01 = string[::-1]\n",
    "print(list01)"
   ]
  },
  {
   "cell_type": "markdown",
   "id": "d9189c34",
   "metadata": {},
   "source": [
    "## 6. Create a function that can add unlimited numbers (arguments). [Hint: Use *args]"
   ]
  },
  {
   "cell_type": "code",
   "execution_count": 16,
   "id": "631f19e1",
   "metadata": {},
   "outputs": [
    {
     "name": "stdout",
     "output_type": "stream",
     "text": [
      "10\n",
      "100\n"
     ]
    }
   ],
   "source": [
    "def add_numbers(*args):\n",
    "    total = 0\n",
    "    for num in args:\n",
    "        total += num\n",
    "    return total\n",
    "\n",
    "sum1 = add_numbers(1, 2, 3, 4)\n",
    "sum2 = add_numbers(10, 20, 30, 40)\n",
    "\n",
    "print(sum1)\n",
    "print(sum2)"
   ]
  }
 ],
 "metadata": {
  "kernelspec": {
   "display_name": "Python 3 (ipykernel)",
   "language": "python",
   "name": "python3"
  },
  "language_info": {
   "codemirror_mode": {
    "name": "ipython",
    "version": 3
   },
   "file_extension": ".py",
   "mimetype": "text/x-python",
   "name": "python",
   "nbconvert_exporter": "python",
   "pygments_lexer": "ipython3",
   "version": "3.9.13"
  }
 },
 "nbformat": 4,
 "nbformat_minor": 5
}
