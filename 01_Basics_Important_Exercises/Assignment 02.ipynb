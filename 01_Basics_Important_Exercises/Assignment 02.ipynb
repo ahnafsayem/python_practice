{
 "cells": [
  {
   "cell_type": "markdown",
   "id": "84e7a37b",
   "metadata": {},
   "source": [
    "## 1. Display float number with 2 decimal places using print()."
   ]
  },
  {
   "cell_type": "code",
   "execution_count": 1,
   "id": "4bef4847",
   "metadata": {},
   "outputs": [
    {
     "name": "stdout",
     "output_type": "stream",
     "text": [
      "10.26\n"
     ]
    }
   ],
   "source": [
    "num_f = 10.2564785\n",
    "print(round(num_f,2))"
   ]
  },
  {
   "cell_type": "markdown",
   "id": "a8448479",
   "metadata": {},
   "source": [
    "## 2. Input list of a float number from the user "
   ]
  },
  {
   "cell_type": "code",
   "execution_count": 2,
   "id": "139db9d5",
   "metadata": {},
   "outputs": [
    {
     "name": "stdout",
     "output_type": "stream",
     "text": [
      "Enter number of elements : 2\n",
      "1.01\n",
      "2.02\n",
      "[1.01, 2.02]\n"
     ]
    }
   ],
   "source": [
    "list01 = []\n",
    "n = int(input(\"Enter number of elements : \"))\n",
    "for i in range(0, n):\n",
    "    element = float(input())\n",
    "    list01.append(element)\n",
    "print(list01)"
   ]
  },
  {
   "cell_type": "markdown",
   "id": "379d9fcb",
   "metadata": {},
   "source": [
    "## 3. Print the First n natural numbers using a while loop."
   ]
  },
  {
   "cell_type": "code",
   "execution_count": 3,
   "id": "6fd43791",
   "metadata": {},
   "outputs": [
    {
     "name": "stdout",
     "output_type": "stream",
     "text": [
      "Enter the value of n: 5\n",
      "1\n",
      "2\n",
      "3\n",
      "4\n",
      "5\n"
     ]
    }
   ],
   "source": [
    "n = int(input(\"Enter the value of n: \"))\n",
    "\n",
    "i = 1\n",
    "while i <= n:\n",
    "    print(i)\n",
    "    i += 1"
   ]
  },
  {
   "cell_type": "markdown",
   "id": "115d2d50",
   "metadata": {},
   "source": [
    "## 4. Display numbers from -n to -1 using for loop."
   ]
  },
  {
   "cell_type": "code",
   "execution_count": 4,
   "id": "49df4c3b",
   "metadata": {},
   "outputs": [
    {
     "name": "stdout",
     "output_type": "stream",
     "text": [
      "Enter the value of n: 5\n",
      "-5\n",
      "-4\n",
      "-3\n",
      "-2\n",
      "-1\n"
     ]
    }
   ],
   "source": [
    "num = int(input(\"Enter the value of n: \"))\n",
    "for i in range(-num, 0):\n",
    "    print(i)"
   ]
  },
  {
   "cell_type": "markdown",
   "id": "5060462f",
   "metadata": {},
   "source": [
    "## 5. Count the total number of digits in a number."
   ]
  },
  {
   "cell_type": "code",
   "execution_count": 5,
   "id": "dfbf8038",
   "metadata": {},
   "outputs": [
    {
     "name": "stdout",
     "output_type": "stream",
     "text": [
      "Enter the Number : 123456789\n",
      "9\n"
     ]
    }
   ],
   "source": [
    "num = int(input(\"Enter the Number : \"))\n",
    "length = len(str(num))\n",
    "print(length)"
   ]
  },
  {
   "cell_type": "markdown",
   "id": "40cccccc",
   "metadata": {},
   "source": [
    "## 6. Find the factorial of a given number."
   ]
  },
  {
   "cell_type": "code",
   "execution_count": 6,
   "id": "a5ac6aba",
   "metadata": {},
   "outputs": [
    {
     "name": "stdout",
     "output_type": "stream",
     "text": [
      "Enter Number: 5\n",
      "120\n"
     ]
    }
   ],
   "source": [
    "import math as m\n",
    "num = int(input(\"Enter Number: \"))\n",
    "result = m.factorial(num)\n",
    "print(result)"
   ]
  },
  {
   "cell_type": "markdown",
   "id": "ca9122ad",
   "metadata": {},
   "source": [
    "## 7. print pattern"
   ]
  },
  {
   "cell_type": "code",
   "execution_count": 7,
   "id": "e5e35785",
   "metadata": {},
   "outputs": [
    {
     "name": "stdout",
     "output_type": "stream",
     "text": [
      "1 \n",
      "1 2 \n",
      "1 2 3 \n",
      "1 2 3 4 \n",
      "1 2 3 4 5 \n"
     ]
    }
   ],
   "source": [
    "for i in range(1, 6):\n",
    "    for j in range(1, i+1):\n",
    "        print(j, end=\" \")\n",
    "    print()"
   ]
  }
 ],
 "metadata": {
  "kernelspec": {
   "display_name": "Python 3 (ipykernel)",
   "language": "python",
   "name": "python3"
  },
  "language_info": {
   "codemirror_mode": {
    "name": "ipython",
    "version": 3
   },
   "file_extension": ".py",
   "mimetype": "text/x-python",
   "name": "python",
   "nbconvert_exporter": "python",
   "pygments_lexer": "ipython3",
   "version": "3.9.13"
  }
 },
 "nbformat": 4,
 "nbformat_minor": 5
}
