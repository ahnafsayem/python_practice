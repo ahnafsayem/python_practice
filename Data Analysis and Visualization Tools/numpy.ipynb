{
  "nbformat": 4,
  "nbformat_minor": 0,
  "metadata": {
    "colab": {
      "provenance": [],
      "authorship_tag": "ABX9TyPc2j9EqMPcSvPQ4MENhBli",
      "include_colab_link": true
    },
    "kernelspec": {
      "name": "python3",
      "display_name": "Python 3"
    },
    "language_info": {
      "name": "python"
    }
  },
  "cells": [
    {
      "cell_type": "markdown",
      "metadata": {
        "id": "view-in-github",
        "colab_type": "text"
      },
      "source": [
        "<a href=\"https://colab.research.google.com/github/ahnafsayem/python_practice/blob/main/Data%20Analysis%20and%20Visualization%20Tools/numpy.ipynb\" target=\"_parent\"><img src=\"https://colab.research.google.com/assets/colab-badge.svg\" alt=\"Open In Colab\"/></a>"
      ]
    },
    {
      "cell_type": "code",
      "execution_count": null,
      "metadata": {
        "id": "L5Vo0HBB9GyY"
      },
      "outputs": [],
      "source": [
        "import numpy as np"
      ]
    },
    {
      "cell_type": "code",
      "source": [
        "#making one dimensional Array\n",
        "\n",
        "a = np.array([1,2,3,4,5])\n",
        "print(a)\n",
        "\n",
        "a[0]\n",
        "\n",
        "#chceking dimension\n",
        "print(a.ndim)\n",
        "\n",
        "#checking shape\n",
        "print(a.shape)"
      ],
      "metadata": {
        "colab": {
          "base_uri": "https://localhost:8080/"
        },
        "id": "9FhyyHia9Tuh",
        "outputId": "3cb427c7-f9d5-414a-a7bc-69ed78968f6a"
      },
      "execution_count": null,
      "outputs": [
        {
          "output_type": "stream",
          "name": "stdout",
          "text": [
            "[1 2 3 4 5]\n",
            "1\n",
            "(5,)\n"
          ]
        }
      ]
    },
    {
      "cell_type": "code",
      "source": [
        "#making two dimensional array\n",
        "\n",
        "b = np.array([[1,2,3],[4,5,6]])\n",
        "print(b)\n",
        "\n",
        "print(b[1])\n",
        "\n",
        "b[1]=[6,7,8]\n",
        "print(b)\n",
        "\n",
        "#chceking dimension\n",
        "print(b.ndim)\n",
        "\n",
        "#checking shape\n",
        "print(b.shape)"
      ],
      "metadata": {
        "colab": {
          "base_uri": "https://localhost:8080/"
        },
        "id": "gcozn9fk9fzn",
        "outputId": "861d65a6-9107-4211-deea-51faa6b11b3d"
      },
      "execution_count": null,
      "outputs": [
        {
          "output_type": "stream",
          "name": "stdout",
          "text": [
            "[[1 2 3]\n",
            " [4 5 6]]\n",
            "[4 5 6]\n",
            "[[1 2 3]\n",
            " [6 7 8]]\n",
            "2\n",
            "(2, 3)\n"
          ]
        }
      ]
    },
    {
      "cell_type": "code",
      "source": [],
      "metadata": {
        "id": "h8fL09Gh-CQc"
      },
      "execution_count": null,
      "outputs": []
    }
  ]
}