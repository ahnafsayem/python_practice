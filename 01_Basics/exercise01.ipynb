{
  "nbformat": 4,
  "nbformat_minor": 0,
  "metadata": {
    "colab": {
      "provenance": [],
      "collapsed_sections": [
        "wJCsLl9FwFxK"
      ],
      "authorship_tag": "ABX9TyNYN+7dHs+Ei5Gt0VcQQkwu",
      "include_colab_link": true
    },
    "kernelspec": {
      "name": "python3",
      "display_name": "Python 3"
    },
    "language_info": {
      "name": "python"
    }
  },
  "cells": [
    {
      "cell_type": "markdown",
      "metadata": {
        "id": "view-in-github",
        "colab_type": "text"
      },
      "source": [
        "<a href=\"https://colab.research.google.com/github/ahnafsayem/python_practice/blob/main/Basic/exercise01.ipynb\" target=\"_parent\"><img src=\"https://colab.research.google.com/assets/colab-badge.svg\" alt=\"Open In Colab\"/></a>"
      ]
    },
    {
      "cell_type": "markdown",
      "source": [
        "# *Exercise on Variables*"
      ],
      "metadata": {
        "id": "wJCsLl9FwFxK"
      }
    },
    {
      "cell_type": "code",
      "execution_count": 14,
      "metadata": {
        "colab": {
          "base_uri": "https://localhost:8080/"
        },
        "id": "Z18RgE2pv8OE",
        "outputId": "1436a3c7-15c6-4dc2-cfdb-4fb68b83b513"
      },
      "outputs": [
        {
          "output_type": "stream",
          "name": "stdout",
          "text": [
            "24\n"
          ]
        }
      ],
      "source": [
        "'''\n",
        "Create two variables.\n",
        "One to store your birth year and another one to store current year.\n",
        "Now calculate your age using these two variables\n",
        "'''\n",
        "\n",
        "current_year=2024\n",
        "birth_year=2000\n",
        "\n",
        "age=current_year-birth_year\n",
        "\n",
        "print(age)"
      ]
    },
    {
      "cell_type": "code",
      "source": [
        "\"\"\"\n",
        "Store your first, middle and last name in three different variables\n",
        "and then print your full name using these variables.\n",
        "\"\"\"\n",
        "\n",
        "First = \"Ahnaf\"\n",
        "Middle = \"Sayem\"\n",
        "Last=\"Abrar\"\n",
        "\n",
        "full_name=First+\" \"+Middle+\" \"+Last\n",
        "\n",
        "print(full_name)"
      ],
      "metadata": {
        "colab": {
          "base_uri": "https://localhost:8080/"
        },
        "id": "eDUFUNWLwxrG",
        "outputId": "e1065149-1058-4983-8979-ba336df67800"
      },
      "execution_count": 15,
      "outputs": [
        {
          "output_type": "stream",
          "name": "stdout",
          "text": [
            "Ahnaf Sayem Abrar\n"
          ]
        }
      ]
    },
    {
      "cell_type": "markdown",
      "source": [
        "# *Exercise on Numbers*"
      ],
      "metadata": {
        "id": "GvEftV2lxVKH"
      }
    },
    {
      "cell_type": "code",
      "source": [
        "\"\"\"\n",
        "Football field that is 90 meter long and 50 meter wide.\n",
        "Find out total Area.\n",
        "\"\"\"\n",
        "\n",
        "length = 90\n",
        "width = 50\n",
        "\n",
        "Area = length*width\n",
        "\n",
        "print(\"Area of the Football Field\",Area)"
      ],
      "metadata": {
        "id": "_0KE6hP1xbfy",
        "colab": {
          "base_uri": "https://localhost:8080/"
        },
        "outputId": "4204db01-d2ad-4a7f-95f4-89e8e8957fc3"
      },
      "execution_count": 16,
      "outputs": [
        {
          "output_type": "stream",
          "name": "stdout",
          "text": [
            "Area of the Football Field 4500\n"
          ]
        }
      ]
    },
    {
      "cell_type": "code",
      "source": [
        "\"\"\"\n",
        "You bought 9 packets of potato chips from a store. Each packet costs 2$\n",
        "and you gave shopkeeper 20$.\n",
        "How many dollars is the shopkeeper going to give you back?\n",
        "\"\"\"\n",
        "\n",
        "per_pack=2\n",
        "total_pack=9\n",
        "given=20\n",
        "total_cost=per_pack*total_pack\n",
        "b_back=given-total_cost\n",
        "print(\"Total Cost\",total_cost,\"$\")\n",
        "print(\"Given\",given,\"$\" )\n",
        "print(\"So shopkeeper retured =\",b_back,\"$\")"
      ],
      "metadata": {
        "colab": {
          "base_uri": "https://localhost:8080/"
        },
        "id": "_YoA0kP41E4o",
        "outputId": "6bb645ec-6388-4e97-f8a2-24b72a740ac1"
      },
      "execution_count": 17,
      "outputs": [
        {
          "output_type": "stream",
          "name": "stdout",
          "text": [
            "Total Cost 18 $\n",
            "Given 20 $\n",
            "So shopkeeper retured = 2 $\n"
          ]
        }
      ]
    },
    {
      "cell_type": "code",
      "source": [
        "\"\"\"\n",
        "your bathroom which is exactly square and 5.5 feet is its length.\n",
        "If tiles cost 500 rs per square feet, how much will be the total cost\n",
        "to replace all tiles. Calculate.\n",
        "\"\"\"\n",
        "\n",
        "length=5.5\n",
        "area=length**2\n",
        "print(\"Area is\",area,\"square-feet\")\n",
        "\n",
        "cost=500*area\n",
        "print(\"Cost is\",cost,\"dollar\")"
      ],
      "metadata": {
        "colab": {
          "base_uri": "https://localhost:8080/"
        },
        "id": "wH6WLbpM452T",
        "outputId": "a5c917db-a1a5-4df3-d2da-d532695c132e"
      },
      "execution_count": 18,
      "outputs": [
        {
          "output_type": "stream",
          "name": "stdout",
          "text": [
            "Area is 30.25 square-feet\n",
            "Cost is 15125.0 dollar\n"
          ]
        }
      ]
    },
    {
      "cell_type": "markdown",
      "source": [
        "# *Exercise on Strings*"
      ],
      "metadata": {
        "id": "gLXJOEcJ5XVV"
      }
    },
    {
      "cell_type": "code",
      "source": [
        "\"\"\"\n",
        "Create 3 variables to store street, city and country,\n",
        "now create address variable to store entire address.\n",
        "Show in Seperate lines.\n",
        "\"\"\"\n",
        "\n",
        "Street=\"3/7 Sherpur-Road\"\n",
        "City=\"Colony,Bogura\"\n",
        "Country=\"Bangladesh\"\n",
        "\n",
        "Address=Street+'\\n'+City+'\\n'+Country\n",
        "print(Address)"
      ],
      "metadata": {
        "id": "YuUYBffZ586O",
        "colab": {
          "base_uri": "https://localhost:8080/"
        },
        "outputId": "2fd3f099-8e81-4c64-d461-9b7423f5d261"
      },
      "execution_count": 19,
      "outputs": [
        {
          "output_type": "stream",
          "name": "stdout",
          "text": [
            "3/7 Sherpur-Road\n",
            "Colony,Bogura\n",
            "Bangladesh\n"
          ]
        }
      ]
    },
    {
      "cell_type": "code",
      "source": [
        "\"\"\"\n",
        "Create a variable to store the string \"Earth revolves around the sun\"\n",
        "Print \"revolves\" using slice operator\n",
        "Print \"sun\" using negative index\n",
        "\"\"\"\n",
        "\n",
        "data=\"Earth Revolves around the Sun\"\n",
        "\n",
        "print(\"Printing 'Revolves' =\",data[6:15])\n",
        "print(\"Printing 'Sun' =\",data[-3:])"
      ],
      "metadata": {
        "id": "l0cn6zKc7J43",
        "colab": {
          "base_uri": "https://localhost:8080/"
        },
        "outputId": "b6a8d957-1626-423e-ea23-1227066ee7eb"
      },
      "execution_count": 23,
      "outputs": [
        {
          "output_type": "stream",
          "name": "stdout",
          "text": [
            "Printing 'Revolves' = Revolves \n",
            "Printing 'Sun' = Sun\n"
          ]
        }
      ]
    },
    {
      "cell_type": "code",
      "source": [
        "\"\"\"Create two variables to store how many fruits and vegetables you eat in a day.\n",
        "Now Print \"I eat x veggies and y fruits daily\"\n",
        "where x and y presents vegetables and fruits that you eat everyday.\n",
        "\n",
        "\"\"\"\n",
        "\n",
        "num_fruits=10\n",
        "num_veggies=5\n",
        "print(\"I eat\", num_veggies,\"veggies and\", num_fruits,\"fruits daily\")"
      ],
      "metadata": {
        "colab": {
          "base_uri": "https://localhost:8080/"
        },
        "id": "B2qxChWy8yTj",
        "outputId": "eb8206e7-5fd4-4e2c-d964-fab45dbb4c11"
      },
      "execution_count": 26,
      "outputs": [
        {
          "output_type": "stream",
          "name": "stdout",
          "text": [
            "I eat 5 veggies and 10 fruits daily\n"
          ]
        }
      ]
    },
    {
      "cell_type": "code",
      "source": [
        "\"\"\"\n",
        "string variable called s='I've ate 200 banana'.\n",
        "This of course is a wrong statement,\n",
        "the correct statement is 'I've ate 10 samosa'\n",
        "\"\"\"\n",
        "\n",
        "s=\"I've ate 200 banana\"\n",
        "s=s.replace('banana','samosa')\n",
        "s=s.replace('200','10')\n",
        "print(\"Using two line replace:\",s)"
      ],
      "metadata": {
        "colab": {
          "base_uri": "https://localhost:8080/"
        },
        "id": "c4VxFuQt9VTl",
        "outputId": "2dbed555-6e64-4d8e-90aa-7015d8e137d0"
      },
      "execution_count": 28,
      "outputs": [
        {
          "output_type": "stream",
          "name": "stdout",
          "text": [
            "Using two line replace: I've ate 10 samosa\n"
          ]
        }
      ]
    }
  ]
}