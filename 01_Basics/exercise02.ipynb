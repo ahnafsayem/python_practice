{
  "nbformat": 4,
  "nbformat_minor": 0,
  "metadata": {
    "colab": {
      "provenance": [],
      "collapsed_sections": [
        "7zrIfhcgX6lt"
      ],
      "authorship_tag": "ABX9TyPBfOP1dM0CxZ1ZDvoZ9/n1"
    },
    "kernelspec": {
      "name": "python3",
      "display_name": "Python 3"
    },
    "language_info": {
      "name": "python"
    }
  },
  "cells": [
    {
      "cell_type": "markdown",
      "source": [
        "# *Exercise on List*"
      ],
      "metadata": {
        "id": "7zrIfhcgX6lt"
      }
    },
    {
      "cell_type": "code",
      "execution_count": null,
      "metadata": {
        "colab": {
          "base_uri": "https://localhost:8080/"
        },
        "id": "WfM5pIOiTzuT",
        "outputId": "cddb1438-1668-4cf3-e5a3-b07668389c3d"
      },
      "outputs": [
        {
          "output_type": "stream",
          "name": "stdout",
          "text": [
            "Expense in January 2200\n",
            "Expense in February 2350\n",
            "Difference between Expense in February and January 150\n",
            "Expense in first quarter 7050\n",
            "Expense 2000$ in one month= True\n",
            "Expenses for first six months respectively,  [2200, 2350, 2500, 2000, 2100, 2600]\n",
            "[2200, 2350, 2500, 1800, 2100, 2600]\n"
          ]
        }
      ],
      "source": [
        "\"\"\"\n",
        "  monthly expense calculation\n",
        "\"\"\"\n",
        "\n",
        "expense_monthly=[2200,2350,2500,2000,2100]\n",
        "\n",
        "print(\"Expense in January\",expense_monthly[0])\n",
        "print(\"Expense in February\",expense_monthly[1])\n",
        "\n",
        "#difference of two expenses\n",
        "print(\"Difference between Expense in February and January\",expense_monthly[1]-expense_monthly[0])\n",
        "\n",
        "#expense in first quarter of the year\n",
        "print(\"Expense in first quarter\",expense_monthly[0]+expense_monthly[1]+expense_monthly[2])\n",
        "\n",
        "#find out 2000$ is in any expense or not\n",
        "print(\"Expense 2000$ in one month=\",2000 in expense_monthly)\n",
        "\n",
        "#add expense of June\n",
        "expense_monthly.append(2600)\n",
        "print(\"Expenses for first six months respectively, \",expense_monthly)\n",
        "\n",
        "#Updating the expense of april after getting a refund of 200$\n",
        "expense_monthly[3]=expense_monthly[3]-200\n",
        "print(expense_monthly)"
      ]
    },
    {
      "cell_type": "code",
      "source": [
        "\"\"\"\n",
        "  Marvel Superhero List\n",
        "\"\"\"\n",
        "\n",
        "heros=['spider man','thor','hulk','iron man','captain america']\n",
        "\n",
        "#Length of the list\n",
        "print(len(heros))\n",
        "\n",
        "#adding another item\n",
        "heros.append('black panther')\n",
        "print(heros)\n",
        "\n",
        "#removing from list\n",
        "heros.remove('black panther')\n",
        "heros.insert(3,'black panther')\n",
        "print(heros)\n",
        "\n",
        "#Slicing\n",
        "heros[2]='doctor strange'\n",
        "print(heros)\n",
        "\n",
        "#sorting in alphabetical order\n",
        "heros.sort()\n",
        "print(heros)"
      ],
      "metadata": {
        "colab": {
          "base_uri": "https://localhost:8080/"
        },
        "id": "gxdAMGs1YaUq",
        "outputId": "20c72bc3-699f-47bd-c5d5-7120ef21e421"
      },
      "execution_count": null,
      "outputs": [
        {
          "output_type": "stream",
          "name": "stdout",
          "text": [
            "5\n",
            "['spider man', 'thor', 'hulk', 'iron man', 'captain america', 'black panther']\n",
            "['spider man', 'thor', 'hulk', 'black panther', 'iron man', 'captain america']\n",
            "['spider man', 'thor', 'doctor strange', 'black panther', 'iron man', 'captain america']\n",
            "['black panther', 'captain america', 'doctor strange', 'iron man', 'spider man', 'thor']\n"
          ]
        }
      ]
    },
    {
      "cell_type": "markdown",
      "source": [
        "# *Exercise in If statement*"
      ],
      "metadata": {
        "id": "fgD_cTPKwh72"
      }
    },
    {
      "cell_type": "code",
      "source": [
        "\"\"\"\n",
        "Findout Country from given City name\n",
        "\n",
        "\"\"\"\n",
        "\n",
        "bangladesh = [\"dhaka\", \"khulna\", \"rangpur\"]\n",
        "india = [\"mumbai\", \"banglore\", \"chennai\", \"delhi\"]\n",
        "pakistan = [\"lahore\",\"karachi\",\"islamabad\"]\n",
        "\n",
        "city = input(\"Enter the city name to know the Country name: \")\n",
        "if city in bangladesh:\n",
        "    print(\"That city is in Bangladesh\")\n",
        "elif city in india:\n",
        "    print(\"That city is in India\")\n",
        "elif city in pakistan:\n",
        "    print(\"That city is in pakistan\")\n",
        "else:\n",
        "    print(\"we dont know\")"
      ],
      "metadata": {
        "colab": {
          "base_uri": "https://localhost:8080/"
        },
        "id": "7Uvga4JWwgxt",
        "outputId": "f294053c-a6c3-495d-dc4d-21581e8b928d"
      },
      "execution_count": null,
      "outputs": [
        {
          "output_type": "stream",
          "name": "stdout",
          "text": [
            "Enter the city name to know the Country name: dhaka\n",
            "That city is in Bangladesh\n"
          ]
        }
      ]
    },
    {
      "cell_type": "code",
      "source": [
        "#Nested If statement\n",
        "\n",
        "bangladesh = [\"dhaka\", \"khulna\", \"rangpur\"]\n",
        "india = [\"mumbai\", \"banglore\", \"chennai\", \"delhi\"]\n",
        "pakistan = [\"lahore\",\"karachi\",\"islamabad\"]\n",
        "\n",
        "city1 = input(\"Enter first city name to know the Country name: \")\n",
        "city2 = input(\"Enter second city name to know the Country name: \")\n",
        "\n",
        "if city1 in bangladesh and city2 in bangladesh:\n",
        "    print(\"Those cities are in Bangladesh\")\n",
        "elif city1 in bangladesh and city2 in india:\n",
        "    print(\"Those cities are in India\")\n",
        "elif city1 in bangladesh and city2 in pakistan:\n",
        "    print(\"Those cities are in Pakistan\")\n",
        "else:\n",
        "    print(\"we dont know\")"
      ],
      "metadata": {
        "colab": {
          "base_uri": "https://localhost:8080/"
        },
        "id": "HpZ2MigNxPjk",
        "outputId": "b1ec3eed-ccc3-42c9-ef52-dd82d8c4a448"
      },
      "execution_count": null,
      "outputs": [
        {
          "output_type": "stream",
          "name": "stdout",
          "text": [
            "Enter first city name to know the Country name: dhaka\n",
            "Enter second city name to know the Country name: khulna\n",
            "Those cities are in Bangladesh\n"
          ]
        }
      ]
    },
    {
      "cell_type": "code",
      "source": [
        "\"\"\"\n",
        "  Checking Sugar Level, Range 80-100 is normal\n",
        "\"\"\"\n",
        "\n",
        "#Changing Input valo in Integer\n",
        "blood = int(input(\"Eenter the sugar level of the blood: \"))\n",
        "\n",
        "if blood <= 80:\n",
        "  print(\"Sugar level is Low\")\n",
        "elif blood >= 100:\n",
        "  print(\"Sugar level is High\")\n",
        "else:\n",
        "  print(\"Sugar level is Normal\")"
      ],
      "metadata": {
        "colab": {
          "base_uri": "https://localhost:8080/"
        },
        "id": "9e1WwbO8yLgC",
        "outputId": "eb9db996-370c-43c9-ca3b-0c1f418cc8d0"
      },
      "execution_count": null,
      "outputs": [
        {
          "output_type": "stream",
          "name": "stdout",
          "text": [
            "Eenter the sugar level of the blood: 85\n",
            "Sugar level is Normal\n"
          ]
        }
      ]
    },
    {
      "cell_type": "code",
      "source": [
        "\"\"\"\n",
        "  Calculate expanse list\n",
        "\"\"\"\n",
        "\n",
        "# List of monthly expenses from January to May\n",
        "expense_list = [2340, 2500, 2100, 3100, 2980]\n",
        "\n",
        "# Corresponding month names\n",
        "months = [\"January\", \"February\", \"March\", \"April\", \"May\"]\n",
        "\n",
        "# Asking the user to enter an expense amount\n",
        "expense_input = int(input(\"Enter the expense amount: \"))\n",
        "\n",
        "# Check if the expense exists in the list\n",
        "if expense_input in expense_list:\n",
        "    index = expense_list.index(expense_input)  # Get the index of the expense\n",
        "    print(f\"The expense occurred in {months[index]}.\")\n",
        "else:\n",
        "    print(\"Expense not found.\")"
      ],
      "metadata": {
        "colab": {
          "base_uri": "https://localhost:8080/"
        },
        "id": "7LUefTio27Uw",
        "outputId": "2006442f-3869-4047-89a8-359aad9f928a"
      },
      "execution_count": null,
      "outputs": [
        {
          "output_type": "stream",
          "name": "stdout",
          "text": [
            "Enter the expense amount: 2500\n",
            "The expense occurred in February.\n"
          ]
        }
      ]
    },
    {
      "cell_type": "markdown",
      "source": [
        "# *Exercise in For Loop*"
      ],
      "metadata": {
        "id": "Rd1cg1ND3G7v"
      }
    },
    {
      "cell_type": "code",
      "source": [
        "#Using for loop figure out how many times you got heads\n",
        "\n",
        "result = [\"heads\", \"tails\", \"tails\", \"heads\", \"tails\", \"heads\", \"heads\", \"tails\", \"tails\", \"tails\"]\n",
        "\n",
        "heads_count = 0\n",
        "\n",
        "for item in result:\n",
        "  if item == \"heads\":\n",
        "    heads_count = heads_count + 1\n",
        "print(\"Heads Count for given flip \", heads_count)"
      ],
      "metadata": {
        "colab": {
          "base_uri": "https://localhost:8080/"
        },
        "id": "W7Lmxxi_2SEb",
        "outputId": "3e49eab5-efae-4dbb-f57e-0847ab419c6b"
      },
      "execution_count": null,
      "outputs": [
        {
          "output_type": "stream",
          "name": "stdout",
          "text": [
            "Heads Count for given flip  4\n"
          ]
        }
      ]
    },
    {
      "cell_type": "code",
      "source": [
        "# Print square of all numbers between 1 to 10 except even numbers\n",
        "\n",
        "for item in range(1,11):\n",
        "  if item % 2 == 0:\n",
        "    continue\n",
        "  print(item*item)"
      ],
      "metadata": {
        "colab": {
          "base_uri": "https://localhost:8080/"
        },
        "id": "dVvKz_EG1NKU",
        "outputId": "701a41a3-f6e0-42cb-a700-497028e7e627"
      },
      "execution_count": null,
      "outputs": [
        {
          "output_type": "stream",
          "name": "stdout",
          "text": [
            "1\n",
            "9\n",
            "25\n",
            "49\n",
            "81\n"
          ]
        }
      ]
    },
    {
      "cell_type": "code",
      "source": [
        "#Checking in Race Track\n",
        "\n",
        "for km in range(1, 6):\n",
        "    response = input(\"Are you tired? (yes/no): \")\n",
        "\n",
        "    if response == \"yes\":\n",
        "        print(\"You didn't finish the race.\")\n",
        "        break\n",
        "    elif response == \"no\":\n",
        "        if km == 5:\n",
        "            print(\"Congratulations! You finished the race!\")\n",
        "    else:\n",
        "        print(\"Please answer with 'yes' or 'no'.\")"
      ],
      "metadata": {
        "colab": {
          "base_uri": "https://localhost:8080/"
        },
        "id": "r2sKY2DA3zVG",
        "outputId": "89b5966f-f5e8-437c-a6ea-da167bd8d6aa"
      },
      "execution_count": null,
      "outputs": [
        {
          "output_type": "stream",
          "name": "stdout",
          "text": [
            "Are you tired? (yes/no): no\n",
            "Are you tired? (yes/no): yes\n",
            "You didn't finish the race.\n"
          ]
        }
      ]
    },
    {
      "cell_type": "code",
      "source": [
        "for i in range(1,6):\n",
        "    s = ''\n",
        "    for j in range(i):\n",
        "        s += '*'\n",
        "    print(s)"
      ],
      "metadata": {
        "id": "qha9MKDZ8YDz",
        "outputId": "48fe7dba-d6b0-4cdd-f5cd-7fc646b7770b",
        "colab": {
          "base_uri": "https://localhost:8080/"
        }
      },
      "execution_count": 18,
      "outputs": [
        {
          "output_type": "stream",
          "name": "stdout",
          "text": [
            "*\n",
            "**\n",
            "***\n",
            "****\n",
            "*****\n"
          ]
        }
      ]
    }
  ]
}