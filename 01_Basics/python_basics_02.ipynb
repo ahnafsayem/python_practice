{
  "nbformat": 4,
  "nbformat_minor": 0,
  "metadata": {
    "colab": {
      "provenance": [],
      "collapsed_sections": [
        "9FPlVo_aK7ow",
        "YPsjb4GSEzDO",
        "o8F3mGTzLWVb",
        "mbkpH9nNRLGs"
      ],
      "authorship_tag": "ABX9TyMiui0jVStIkmtDply957qe",
      "include_colab_link": true
    },
    "kernelspec": {
      "name": "python3",
      "display_name": "Python 3"
    },
    "language_info": {
      "name": "python"
    }
  },
  "cells": [
    {
      "cell_type": "markdown",
      "metadata": {
        "id": "view-in-github",
        "colab_type": "text"
      },
      "source": [
        "<a href=\"https://colab.research.google.com/github/ahnafsayem/python_practice/blob/main/Basic/python_basics_02.ipynb\" target=\"_parent\"><img src=\"https://colab.research.google.com/assets/colab-badge.svg\" alt=\"Open In Colab\"/></a>"
      ]
    },
    {
      "cell_type": "markdown",
      "source": [
        "# *Lists in Python*"
      ],
      "metadata": {
        "id": "9FPlVo_aK7ow"
      }
    },
    {
      "cell_type": "code",
      "source": [
        "#Creating a list\n",
        "item1='Rice'\n",
        "item2='Daal'\n",
        "item3='Meatbox'\n",
        "item4='Pasta'\n",
        "items = [item1,item2,item3,item4]\n",
        "print(\"List of the given items\",items)\n",
        "\n",
        "#Accessing any item\n",
        "print(\"Accessing an item at index 1, which is - \",items[1])\n",
        "\n",
        "#changing item datas\n",
        "item1 = \"Pizza\"\n",
        "item2 = \"Burger\"\n",
        "items = [item1,item2,item3,item4]\n",
        "print(\"List of the given items\",items) #updated list\n",
        "\n",
        "#Again ccessing any item\n",
        "print(\"Accessing an item at index 1, which is now chnaged into - \",items[1])"
      ],
      "metadata": {
        "colab": {
          "base_uri": "https://localhost:8080/"
        },
        "id": "NbTkTB7ALBGU",
        "outputId": "f234d874-029b-478f-9add-0c39028d09eb"
      },
      "execution_count": null,
      "outputs": [
        {
          "output_type": "stream",
          "name": "stdout",
          "text": [
            "List of the given items ['Rice', 'Daal', 'Meatbox', 'Pasta']\n",
            "Accessing an item at index 1, which is -  Daal\n",
            "List of the given items ['Pizza', 'Burger', 'Meatbox', 'Pasta']\n",
            "Accessing an item at index 1, which is now chnaged into -  Burger\n"
          ]
        }
      ]
    },
    {
      "cell_type": "code",
      "source": [
        "#Slicing List\n",
        "print(items[0:2])\n",
        "print(items[:3])\n",
        "print(items[2:])\n",
        "\n",
        "print(items)"
      ],
      "metadata": {
        "colab": {
          "base_uri": "https://localhost:8080/"
        },
        "id": "aWrhvfNbNVkD",
        "outputId": "5daeb7c3-1444-4b02-e96d-d1af4e974a9c"
      },
      "execution_count": null,
      "outputs": [
        {
          "output_type": "stream",
          "name": "stdout",
          "text": [
            "['Pizza', 'Burger']\n",
            "['Pizza', 'Burger', 'Meatbox']\n",
            "['Meatbox', 'Pasta']\n",
            "['Pizza', 'Burger', 'Meatbox', 'Pasta']\n"
          ]
        }
      ]
    },
    {
      "cell_type": "code",
      "source": [
        "#Adding Elements\n",
        "\n",
        "#Append - adds in the end\n",
        "items.append(\"Wadges\")\n",
        "print(items)\n",
        "\n",
        "#Insert in a specific position\n",
        "items.insert(1,\"Drinks\") #inserted in index position 1\n",
        "print(items)"
      ],
      "metadata": {
        "colab": {
          "base_uri": "https://localhost:8080/"
        },
        "id": "ZOYZJwbjPv5G",
        "outputId": "7b26bf8f-2574-4e7a-d534-5f12c01254f5"
      },
      "execution_count": null,
      "outputs": [
        {
          "output_type": "stream",
          "name": "stdout",
          "text": [
            "['Pizza', 'Burger', 'Meatbox', 'Pasta', 'Wadges']\n",
            "['Pizza', 'Drinks', 'Burger', 'Meatbox', 'Pasta', 'Wadges']\n"
          ]
        }
      ]
    },
    {
      "cell_type": "code",
      "source": [
        "#Removing Elements\n",
        "\n",
        "#Pop- for specific index\n",
        "items.pop(-1)\n",
        "print(items)\n",
        "\n",
        "#Remove -for specific value\n",
        "items.remove(\"Drinks\")\n",
        "print(items)"
      ],
      "metadata": {
        "colab": {
          "base_uri": "https://localhost:8080/"
        },
        "id": "yVSNxNaCO8dD",
        "outputId": "d570b7be-0930-4b79-9cfb-684e5772894e"
      },
      "execution_count": null,
      "outputs": [
        {
          "output_type": "stream",
          "name": "stdout",
          "text": [
            "['Pizza', 'Drinks', 'Burger', 'Meatbox', 'Pasta']\n",
            "['Pizza', 'Burger', 'Meatbox', 'Pasta']\n"
          ]
        }
      ]
    },
    {
      "cell_type": "code",
      "source": [
        "#Joining two list\n",
        "\n",
        "#Updated List items=['Pizza', 'Burger', 'Meatbox','Pasta']\n",
        "toiletries = [\"Shampoo\", \"Soap\", \"Bodywash\", \"Facewash\"]\n",
        "\n",
        "shopping_list = items + toiletries #adding two lists\n",
        "print(shopping_list)\n",
        "\n",
        "#Length of the list\n",
        "length = len(shopping_list)\n",
        "print(\"Length of the list is\",length)"
      ],
      "metadata": {
        "colab": {
          "base_uri": "https://localhost:8080/"
        },
        "id": "OgBbyBg8PsxC",
        "outputId": "a8db0c3e-db12-46c4-f5fe-5c4e08fda3ee"
      },
      "execution_count": null,
      "outputs": [
        {
          "output_type": "stream",
          "name": "stdout",
          "text": [
            "['Pizza', 'Burger', 'Meatbox', 'Pasta', 'Shampoo', 'Soap', 'Bodywash', 'Facewash']\n",
            "Length of the list is 8\n"
          ]
        }
      ]
    },
    {
      "cell_type": "code",
      "source": [
        "#Finding a items in list\n",
        "\"Meatbox\" in shopping_list #True"
      ],
      "metadata": {
        "colab": {
          "base_uri": "https://localhost:8080/"
        },
        "id": "jAWm83ExSmxW",
        "outputId": "ad61d570-38fb-4bc2-f359-5b9472b42d3e"
      },
      "execution_count": null,
      "outputs": [
        {
          "output_type": "execute_result",
          "data": {
            "text/plain": [
              "True"
            ]
          },
          "metadata": {},
          "execution_count": 153
        }
      ]
    },
    {
      "cell_type": "code",
      "source": [
        "\"Mutton\" in shopping_list #false"
      ],
      "metadata": {
        "colab": {
          "base_uri": "https://localhost:8080/"
        },
        "id": "WcgxRU2zSvNq",
        "outputId": "690702fa-26dd-458d-d567-e453b16b57a0"
      },
      "execution_count": null,
      "outputs": [
        {
          "output_type": "execute_result",
          "data": {
            "text/plain": [
              "False"
            ]
          },
          "metadata": {},
          "execution_count": 154
        }
      ]
    },
    {
      "cell_type": "markdown",
      "source": [
        "# *If Statement in Python*"
      ],
      "metadata": {
        "id": "YPsjb4GSEzDO"
      }
    },
    {
      "cell_type": "code",
      "source": [
        "#Program for Checking EVEN or ODD\n",
        "\n",
        "num=input(\"Enter a Number:\")\n",
        "num=int(num)\n",
        "if num%2==0:\n",
        "  print(\"Number is EVEN\")\n",
        "else:\n",
        "  print(\"Number is ODD\")"
      ],
      "metadata": {
        "colab": {
          "base_uri": "https://localhost:8080/"
        },
        "id": "-jXGH5vXE6AD",
        "outputId": "7e4f664e-d82f-4001-c948-2c11bdf86338"
      },
      "execution_count": null,
      "outputs": [
        {
          "output_type": "stream",
          "name": "stdout",
          "text": [
            "Enter a Number:5\n",
            "Number is ODD\n"
          ]
        }
      ]
    },
    {
      "cell_type": "code",
      "source": [
        "\"\"\" Write a program that asks user to enter a dish name,\n",
        "    and it should print which cuisine it is\n",
        "\"\"\"\n",
        "indian = [\"samosa\", \"daal\", \"naan\"]\n",
        "chinese = [\"egg roll\", \"pot sticker\", \"fried rice\"]\n",
        "italian = [\"pizza\", \"pasta\", \"risotto\"]\n",
        "\n",
        "dish = input(\"Enter a dish name:\")\n",
        "\n",
        "if dish in indian:\n",
        "  print(\"Indian\")\n",
        "elif dish in chinese:\n",
        "  print(\"Chinese\")\n",
        "elif dish in italian:\n",
        "  print(\"Italian\")\n",
        "else:\n",
        "  print(\"SORRY! I don't know which cuisine is\",dish)"
      ],
      "metadata": {
        "colab": {
          "base_uri": "https://localhost:8080/"
        },
        "id": "PGfvar22GHCk",
        "outputId": "65104fa1-8f04-4dec-c893-3507d6865d4f"
      },
      "execution_count": null,
      "outputs": [
        {
          "output_type": "stream",
          "name": "stdout",
          "text": [
            "Enter a dish name:meatbox\n",
            "SORRY! I don't know which cuisine is meatbox\n"
          ]
        }
      ]
    },
    {
      "cell_type": "markdown",
      "source": [
        "# *For Loop in Python*"
      ],
      "metadata": {
        "id": "o8F3mGTzLWVb"
      }
    },
    {
      "cell_type": "code",
      "source": [
        "#printing\n",
        "\n",
        "for i in range(1,6):\n",
        "  print(i)"
      ],
      "metadata": {
        "colab": {
          "base_uri": "https://localhost:8080/"
        },
        "id": "mIPt5LiPN2Id",
        "outputId": "03016977-8c8d-4b2c-b6a9-4010a49ba119"
      },
      "execution_count": null,
      "outputs": [
        {
          "output_type": "stream",
          "name": "stdout",
          "text": [
            "1\n",
            "2\n",
            "3\n",
            "4\n",
            "5\n"
          ]
        }
      ]
    },
    {
      "cell_type": "code",
      "source": [
        "#Multiplication\n",
        "\n",
        "for i in range(1,6):\n",
        "  print(i*i)"
      ],
      "metadata": {
        "colab": {
          "base_uri": "https://localhost:8080/"
        },
        "id": "LyqVbinoOCIy",
        "outputId": "368baa81-f0e4-44fc-9e7e-b5e84e24933a"
      },
      "execution_count": null,
      "outputs": [
        {
          "output_type": "stream",
          "name": "stdout",
          "text": [
            "1\n",
            "4\n",
            "9\n",
            "16\n",
            "25\n"
          ]
        }
      ]
    },
    {
      "cell_type": "code",
      "source": [
        "#Print Square of the even numbers in 1-5\n",
        "\n",
        "for i in range(1,6):\n",
        "  if i%2==0:\n",
        "    continue\n",
        "  print(i*i)"
      ],
      "metadata": {
        "colab": {
          "base_uri": "https://localhost:8080/"
        },
        "id": "uFBkuF-lQjHf",
        "outputId": "cf7911ad-9065-4da2-b453-233165eea1ee"
      },
      "execution_count": null,
      "outputs": [
        {
          "output_type": "stream",
          "name": "stdout",
          "text": [
            "1\n",
            "9\n",
            "25\n"
          ]
        }
      ]
    },
    {
      "cell_type": "code",
      "source": [
        "#Calculating Expenses\n",
        "\n",
        "expense = [1100,1200,1300,1400]\n",
        "#total = expense[0] + expense[1] + expense[2] + expense[3]\n",
        "#print(\"Total expenses is\",total)\n",
        "\n",
        "total=0\n",
        "\n",
        "for item in expense:\n",
        "  total= total + item\n",
        "print(\"Total expenses is\",total)"
      ],
      "metadata": {
        "colab": {
          "base_uri": "https://localhost:8080/"
        },
        "id": "eM0hHIdWLbfw",
        "outputId": "5b4b4eb3-dbcb-4531-bd08-e3f21cf4518a"
      },
      "execution_count": null,
      "outputs": [
        {
          "output_type": "stream",
          "name": "stdout",
          "text": [
            "Total expenses is 5000\n"
          ]
        }
      ]
    },
    {
      "cell_type": "code",
      "source": [
        "#Calculating Expenses in another way\n",
        "\n",
        "exp = [1100,1200,1300,1400]\n",
        "\n",
        "for item in range(len(exp)):\n",
        "  print(\"Month\",item+1,\"Expense\",exp[item])\n",
        "  total= total + exp[item]\n",
        "print(\"Total expenses is\",total)"
      ],
      "metadata": {
        "colab": {
          "base_uri": "https://localhost:8080/"
        },
        "id": "PdPAx6RrMsdg",
        "outputId": "55156c45-5fce-485f-a054-4128b3654f0b"
      },
      "execution_count": null,
      "outputs": [
        {
          "output_type": "stream",
          "name": "stdout",
          "text": [
            "Month 1 Expense 1100\n",
            "Month 2 Expense 1200\n",
            "Month 3 Expense 1300\n",
            "Month 4 Expense 1400\n",
            "Total expenses is 10000\n"
          ]
        }
      ]
    },
    {
      "cell_type": "code",
      "source": [
        "#Find Lost Key using For Loop\n",
        "\n",
        "key = \"table\"\n",
        "locations = [\"bed\",\"closet\",\"table\",\"chair\"]\n",
        "\n",
        "for item in locations:\n",
        "  if item==key:\n",
        "    print(\"Key is found in\",item)\n",
        "    break\n",
        "  else:\n",
        "    print(\"Key is not found in\",item)"
      ],
      "metadata": {
        "colab": {
          "base_uri": "https://localhost:8080/"
        },
        "id": "D9Cwa1h4PWjJ",
        "outputId": "80ce652d-0179-4c54-cdd7-87a365d901da"
      },
      "execution_count": null,
      "outputs": [
        {
          "output_type": "stream",
          "name": "stdout",
          "text": [
            "Key is not found in bed\n",
            "Key is not found in closet\n",
            "Key is found in table\n"
          ]
        }
      ]
    },
    {
      "cell_type": "markdown",
      "source": [
        "# *While Loop in Python*"
      ],
      "metadata": {
        "id": "mbkpH9nNRLGs"
      }
    },
    {
      "cell_type": "code",
      "source": [
        "#Print 1-5\n",
        "\n",
        "i=1\n",
        "while i<=5:\n",
        "  print(i)\n",
        "  i=i+1"
      ],
      "metadata": {
        "colab": {
          "base_uri": "https://localhost:8080/"
        },
        "id": "cJGafRqPRQGk",
        "outputId": "6eac095f-3faf-4572-ad4d-359ed4f91b6d"
      },
      "execution_count": null,
      "outputs": [
        {
          "output_type": "stream",
          "name": "stdout",
          "text": [
            "1\n",
            "2\n",
            "3\n",
            "4\n",
            "5\n"
          ]
        }
      ]
    }
  ]
}