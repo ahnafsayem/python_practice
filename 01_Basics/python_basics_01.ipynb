{
  "nbformat": 4,
  "nbformat_minor": 0,
  "metadata": {
    "colab": {
      "provenance": [],
      "collapsed_sections": [
        "5WVUixSnwrWO",
        "dh3jBH86yg2r",
        "38he8pRQ3l65",
        "MCFZLLk6TF-G"
      ],
      "authorship_tag": "ABX9TyPxacVzLVoL4jZ2YZGXlwdg",
      "include_colab_link": true
    },
    "kernelspec": {
      "name": "python3",
      "display_name": "Python 3"
    },
    "language_info": {
      "name": "python"
    }
  },
  "cells": [
    {
      "cell_type": "markdown",
      "metadata": {
        "id": "view-in-github",
        "colab_type": "text"
      },
      "source": [
        "<a href=\"https://colab.research.google.com/github/ahnafsayem/python_practice/blob/main/Basic/python_basics_01.ipynb\" target=\"_parent\"><img src=\"https://colab.research.google.com/assets/colab-badge.svg\" alt=\"Open In Colab\"/></a>"
      ]
    },
    {
      "cell_type": "markdown",
      "source": [
        "# *Variables in Python*\n"
      ],
      "metadata": {
        "id": "5WVUixSnwrWO"
      }
    },
    {
      "cell_type": "code",
      "source": [
        "#Calculating total expenses of a house per month\n",
        "\n",
        "rent=1500\n",
        "gas=500\n",
        "electricity_bill=1000\n",
        "groceries=1500\n",
        "\n",
        "total = rent+gas+electricity_bill+groceries\n",
        "\n",
        "print(\"Total expenses of the house is\",total,\"dollar\" )"
      ],
      "metadata": {
        "colab": {
          "base_uri": "https://localhost:8080/"
        },
        "id": "qPrs0446xWf8",
        "outputId": "6fc07ca1-c843-406f-e2ef-14612a472f86"
      },
      "execution_count": null,
      "outputs": [
        {
          "output_type": "stream",
          "name": "stdout",
          "text": [
            "Total expenses of the house is 4500 dollar\n"
          ]
        }
      ]
    },
    {
      "cell_type": "markdown",
      "source": [],
      "metadata": {
        "id": "Zq8TGNIUyfKs"
      }
    },
    {
      "cell_type": "markdown",
      "source": [
        "# *Numbers in Python*"
      ],
      "metadata": {
        "id": "dh3jBH86yg2r"
      }
    },
    {
      "cell_type": "code",
      "source": [
        "#calculating distance and travel time between Rajshahi to Daka through Bogura.\n",
        "\n",
        "Raj_Bog=100\n",
        "Bog_Dha=150\n",
        "\n",
        "total_distance =(Raj_Bog*1000)+(Bog_Dha*1000)\n",
        "print('Total Distance traveled',total_distance,'meters.')\n",
        "\n",
        "speed=65 #speed of a car in kmph\n",
        "\n",
        "#Converting in m/s\n",
        "speed_f=(speed*1000)/3600\n",
        "\n",
        "travel_time= total_distance/speed_f\n",
        "\n",
        "time=round(travel_time,2)\n",
        "\n",
        "print(\"Total travel time\",time,'m/s')"
      ],
      "metadata": {
        "colab": {
          "base_uri": "https://localhost:8080/"
        },
        "id": "XK1CXc2_yx1K",
        "outputId": "34dddbab-840f-409b-d3c6-0aca231d7b95"
      },
      "execution_count": null,
      "outputs": [
        {
          "output_type": "stream",
          "name": "stdout",
          "text": [
            "Total Distance traveled 250000 meters.\n",
            "Total travel time 13846.15 m/s\n"
          ]
        }
      ]
    },
    {
      "cell_type": "markdown",
      "source": [
        "# *Strings in Python*"
      ],
      "metadata": {
        "id": "38he8pRQ3l65"
      }
    },
    {
      "cell_type": "code",
      "source": [
        "# Strings are immutable in Python,\n",
        "#that means we can not change the string partially\n",
        "\n",
        "name = \"AHNAF SAYEM\"\n",
        "\n",
        "print(\"Printing the first letter of the string, that is - \",name[0])\n",
        "print(\"Printing the last letter of the string, that is - \",name[-1])\n",
        "\n",
        "print(\"Random position check - \", name[6])\n",
        "\n",
        "\n",
        "#subindex\n",
        "print(\"Subindex - The first name is :- \",name[0:5]) #another way- name[:5]\n",
        "print(\"Subindex - The last name is :- \",name[6:]) #going till the last"
      ],
      "metadata": {
        "colab": {
          "base_uri": "https://localhost:8080/"
        },
        "id": "PTmMLsbr3wOD",
        "outputId": "b97f9260-73e4-4b55-d5f9-081f4973fd98"
      },
      "execution_count": null,
      "outputs": [
        {
          "output_type": "stream",
          "name": "stdout",
          "text": [
            "Printing the first letter of the string, that is -  A\n",
            "Printing the last letter of the string, that is -  M\n",
            "Random position check -  S\n",
            "Subindex - The first name is :-  AHNAF\n",
            "Subindex - The last name is :-  SAYEM\n"
          ]
        }
      ]
    },
    {
      "cell_type": "code",
      "source": [
        "#Multiple Lines like Address\n",
        "\n",
        "print(\"Address of Ahnaf Sayem:\")\n",
        "\n",
        "address='''Bangladesh\n",
        "South Asia\n",
        "Earth, Milky Way Galaxy'''\n",
        "\n",
        "print(address)"
      ],
      "metadata": {
        "colab": {
          "base_uri": "https://localhost:8080/"
        },
        "id": "QZ33mWYe93GU",
        "outputId": "16de694d-b378-469a-fd0d-b381b97086d0"
      },
      "execution_count": null,
      "outputs": [
        {
          "output_type": "stream",
          "name": "stdout",
          "text": [
            "Address of Ahnaf Sayem:\n",
            "Bangladesh\n",
            "South Asia\n",
            "Earth, Milky Way Galaxy\n"
          ]
        }
      ]
    },
    {
      "cell_type": "code",
      "source": [
        "#Joining Two Strings\n",
        "s1 = \"hello\"\n",
        "s2 = \"world\"\n",
        "s3 = s1 + s2\n",
        "print(s3)\n",
        "\n",
        "#adding space in between\n",
        "s4 = s1 + \" \" + s2\n",
        "print(s4)\n",
        "\n",
        "#converting number into string and then adding\n",
        "p1 = \"Total districts in Bangladesh #\"\n",
        "p2 = str(64)\n",
        "p3 = p1 + p2\n",
        "print(p3)"
      ],
      "metadata": {
        "colab": {
          "base_uri": "https://localhost:8080/"
        },
        "id": "ElQwrtk--nLS",
        "outputId": "2895f6a8-89e3-4a5e-e93f-d6dcee7c6280"
      },
      "execution_count": null,
      "outputs": [
        {
          "output_type": "stream",
          "name": "stdout",
          "text": [
            "helloworld\n",
            "hello world\n",
            "Total districts in Bangladesh #64\n"
          ]
        }
      ]
    }
  ]
}