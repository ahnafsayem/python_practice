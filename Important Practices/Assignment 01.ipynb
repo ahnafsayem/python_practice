{
 "cells": [
  {
   "cell_type": "code",
   "execution_count": 1,
   "id": "31ac4754",
   "metadata": {},
   "outputs": [],
   "source": [
    "import numpy as np\n",
    "import pandas as pd\n",
    "import math as m"
   ]
  },
  {
   "cell_type": "markdown",
   "id": "7204eeba",
   "metadata": {},
   "source": [
    "## 01.  Area of the circle"
   ]
  },
  {
   "cell_type": "code",
   "execution_count": 2,
   "id": "bc3587f4",
   "metadata": {},
   "outputs": [
    {
     "name": "stdout",
     "output_type": "stream",
     "text": [
      "Enter the radius of the circle\n",
      "5\n",
      "Area of the Circle:  78.53981633974483\n"
     ]
    }
   ],
   "source": [
    "print(\"Enter the radius of the circle\")\n",
    "radious_c =  float(input())\n",
    "area_circle = m.pi*((radious_c)**2)\n",
    "\n",
    "print(\"Area of the Circle: \", area_circle)"
   ]
  },
  {
   "cell_type": "markdown",
   "id": "b2fa28a6",
   "metadata": {},
   "source": [
    "## 02. Comparision Between Three Numbers"
   ]
  },
  {
   "cell_type": "code",
   "execution_count": 3,
   "id": "d67e3c01",
   "metadata": {},
   "outputs": [
    {
     "name": "stdout",
     "output_type": "stream",
     "text": [
      "Enter first number: 5\n",
      "Enter second number: 6\n",
      "Enter third number: 7\n",
      "The largest number is 7\n"
     ]
    }
   ],
   "source": [
    "num_1 = int(input(\"Enter first number: \"))\n",
    "num_2 = int(input(\"Enter second number: \"))\n",
    "num_3 = int(input(\"Enter third number: \"))\n",
    " \n",
    "if (num_1 > num_2) and (num_1 > num_3):\n",
    "   largest = n1\n",
    "elif (num_2 > num_1) and (num_2 >num_3):\n",
    "   largest = num_2\n",
    "else:\n",
    "   largest = num_3\n",
    " \n",
    "print(\"The largest number is\",largest)"
   ]
  },
  {
   "cell_type": "markdown",
   "id": "6948c6c6",
   "metadata": {},
   "source": [
    "## 03. Vowel & Consonant"
   ]
  },
  {
   "cell_type": "code",
   "execution_count": 4,
   "id": "15c3f5b9",
   "metadata": {},
   "outputs": [
    {
     "name": "stdout",
     "output_type": "stream",
     "text": [
      "10001\n"
     ]
    }
   ],
   "source": [
    "def convert_vowels_to_1_consonants_to_0(ip_str):\n",
    "    vowels = 'aeiou'\n",
    "    op_str = ''\n",
    "    for char in ip_str:\n",
    "        if char.lower() in vowels:\n",
    "            op_str += '1'\n",
    "        else:\n",
    "            op_str += '0'\n",
    "    return op_str\n",
    "\n",
    "ip_str = 'abcde'\n",
    "op_str = convert_vowels_to_1_consonants_to_0(ip_str)\n",
    "print(op_str)"
   ]
  },
  {
   "cell_type": "markdown",
   "id": "6ff8450d",
   "metadata": {},
   "source": [
    "## 04. Calculator for ADD, SUB, MUL, DIV"
   ]
  },
  {
   "cell_type": "code",
   "execution_count": 5,
   "id": "e91960e9",
   "metadata": {},
   "outputs": [
    {
     "name": "stdout",
     "output_type": "stream",
     "text": [
      "Select operation:\n",
      "1.Add\n",
      "2.Subtract\n",
      "3.Multiply\n",
      "4.Divide\n",
      "Please enter choice (1/ 2/ 3/ 4): 3\n",
      "Enter First Number:5\n",
      "Enter Second Number:5\n",
      "5.0 * 5.0 = 25.0\n"
     ]
    }
   ],
   "source": [
    "def add(x,y):\n",
    "    return x+y\n",
    "def sub(x,y):\n",
    "    return x-y\n",
    "def mul(x,y):\n",
    "    return x*y\n",
    "def div(x,y):\n",
    "    return x/y\n",
    "\n",
    "print(\"Select operation:\")\n",
    "print(\"1.Add\")\n",
    "print(\"2.Subtract\")\n",
    "print(\"3.Multiply\")\n",
    "print(\"4.Divide\")\n",
    "\n",
    "choice = input(\"Please enter choice (1/ 2/ 3/ 4): \")    \n",
    "\n",
    "x = float(input(\"Enter First Number:\"))\n",
    "y = float(input(\"Enter Second Number:\"))\n",
    "\n",
    "if choice == '1':    \n",
    "   print(x,\"+\", y,\"=\",add(x,y))    \n",
    "    \n",
    "if choice == '2':    \n",
    "   print(x,\"-\", y,\"=\",sub(x,y))     \n",
    "    \n",
    "if choice == '3':    \n",
    "   print(x,\"*\", y,\"=\",mul(x,y)) \n",
    "\n",
    "if choice == '4':    \n",
    "   print(x,\"/\", y,\"=\",div(x,y))   "
   ]
  },
  {
   "cell_type": "markdown",
   "id": "4ea6688b",
   "metadata": {},
   "source": [
    "## 05. Input String and Repeat"
   ]
  },
  {
   "cell_type": "code",
   "execution_count": 6,
   "id": "cec2a94b",
   "metadata": {},
   "outputs": [
    {
     "name": "stdout",
     "output_type": "stream",
     "text": [
      "Input a String to Repeat\n",
      "xyz\n",
      "Repeated String Output:  xyzxyz\n"
     ]
    }
   ],
   "source": [
    "print(\"Input a String to Repeat\")\n",
    "string = str(input())\n",
    "result = string+string\n",
    "\n",
    "print (\"Repeated String Output: \",result)"
   ]
  },
  {
   "cell_type": "markdown",
   "id": "7a29fc00",
   "metadata": {},
   "source": [
    "## 06. Filter and Mapping"
   ]
  },
  {
   "cell_type": "code",
   "execution_count": 7,
   "id": "fd79ae3e",
   "metadata": {},
   "outputs": [
    {
     "name": "stdout",
     "output_type": "stream",
     "text": [
      "['ux1P5', 'z1aP']\n"
     ]
    }
   ],
   "source": [
    "input_list = [\"ux1P5\", \"rt0\", \"ft3\", \"z1aP\"]\n",
    "output_list = list(filter(lambda x: 'P' in x, input_list))\n",
    "print(output_list)"
   ]
  },
  {
   "cell_type": "code",
   "execution_count": 8,
   "id": "e4d44839",
   "metadata": {},
   "outputs": [
    {
     "name": "stdout",
     "output_type": "stream",
     "text": [
      "['ux1P5', 'rt0P', 'ft3P', 'z1aP']\n"
     ]
    }
   ],
   "source": [
    "input_list = [\"ux1P5\", \"rt0\", \"ft3\", \"z1aP\"]\n",
    "output_list = list(map(lambda x: x + 'P' if 'P' not in x else x, input_list))\n",
    "print(output_list)"
   ]
  },
  {
   "cell_type": "code",
   "execution_count": 9,
   "id": "a9eba265",
   "metadata": {},
   "outputs": [
    {
     "name": "stdout",
     "output_type": "stream",
     "text": [
      "[10]\n"
     ]
    }
   ],
   "source": [
    "from functools import reduce\n",
    "input_list = [1, 2, 3, 4]\n",
    "output = reduce(lambda x, y: x+y, input_list)\n",
    "print([output])"
   ]
  },
  {
   "cell_type": "code",
   "execution_count": 10,
   "id": "bcf9e89d",
   "metadata": {},
   "outputs": [
    {
     "name": "stdout",
     "output_type": "stream",
     "text": [
      "[10]\n"
     ]
    }
   ],
   "source": [
    "input_list = [1, 2, 3, 4]\n",
    "output = sum(input_list)\n",
    "print([output])"
   ]
  },
  {
   "cell_type": "markdown",
   "id": "c51587c6",
   "metadata": {},
   "source": [
    "## 07. Wine Dataset"
   ]
  },
  {
   "cell_type": "code",
   "execution_count": 11,
   "id": "fcfdb07f",
   "metadata": {},
   "outputs": [
    {
     "data": {
      "text/html": [
       "<div>\n",
       "<style scoped>\n",
       "    .dataframe tbody tr th:only-of-type {\n",
       "        vertical-align: middle;\n",
       "    }\n",
       "\n",
       "    .dataframe tbody tr th {\n",
       "        vertical-align: top;\n",
       "    }\n",
       "\n",
       "    .dataframe thead th {\n",
       "        text-align: right;\n",
       "    }\n",
       "</style>\n",
       "<table border=\"1\" class=\"dataframe\">\n",
       "  <thead>\n",
       "    <tr style=\"text-align: right;\">\n",
       "      <th></th>\n",
       "      <th>Unnamed: 0</th>\n",
       "      <th>item_code</th>\n",
       "      <th>item_name</th>\n",
       "      <th>display_level</th>\n",
       "      <th>selectable</th>\n",
       "      <th>sort_sequence</th>\n",
       "    </tr>\n",
       "  </thead>\n",
       "  <tbody>\n",
       "    <tr>\n",
       "      <th>0</th>\n",
       "      <td>0</td>\n",
       "      <td>AA0</td>\n",
       "      <td>All items - old base</td>\n",
       "      <td>0</td>\n",
       "      <td>T</td>\n",
       "      <td>2</td>\n",
       "    </tr>\n",
       "    <tr>\n",
       "      <th>1</th>\n",
       "      <td>1</td>\n",
       "      <td>AA0R</td>\n",
       "      <td>Purchasing power of the consumer dollar - old ...</td>\n",
       "      <td>0</td>\n",
       "      <td>T</td>\n",
       "      <td>400</td>\n",
       "    </tr>\n",
       "    <tr>\n",
       "      <th>2</th>\n",
       "      <td>2</td>\n",
       "      <td>SA0</td>\n",
       "      <td>All items</td>\n",
       "      <td>0</td>\n",
       "      <td>T</td>\n",
       "      <td>1</td>\n",
       "    </tr>\n",
       "    <tr>\n",
       "      <th>3</th>\n",
       "      <td>3</td>\n",
       "      <td>SA0E</td>\n",
       "      <td>Energy</td>\n",
       "      <td>1</td>\n",
       "      <td>T</td>\n",
       "      <td>375</td>\n",
       "    </tr>\n",
       "    <tr>\n",
       "      <th>4</th>\n",
       "      <td>4</td>\n",
       "      <td>SA0L1</td>\n",
       "      <td>All items less food</td>\n",
       "      <td>1</td>\n",
       "      <td>T</td>\n",
       "      <td>359</td>\n",
       "    </tr>\n",
       "    <tr>\n",
       "      <th>5</th>\n",
       "      <td>5</td>\n",
       "      <td>SA0L12</td>\n",
       "      <td>All items less food and shelter</td>\n",
       "      <td>1</td>\n",
       "      <td>T</td>\n",
       "      <td>362</td>\n",
       "    </tr>\n",
       "    <tr>\n",
       "      <th>6</th>\n",
       "      <td>6</td>\n",
       "      <td>SA0L12E</td>\n",
       "      <td>All items less food, shelter, and energy</td>\n",
       "      <td>1</td>\n",
       "      <td>T</td>\n",
       "      <td>363</td>\n",
       "    </tr>\n",
       "    <tr>\n",
       "      <th>7</th>\n",
       "      <td>7</td>\n",
       "      <td>SA0L12E4</td>\n",
       "      <td>All items less food, shelter, energy, and used...</td>\n",
       "      <td>1</td>\n",
       "      <td>T</td>\n",
       "      <td>364</td>\n",
       "    </tr>\n",
       "    <tr>\n",
       "      <th>8</th>\n",
       "      <td>8</td>\n",
       "      <td>SA0L1E</td>\n",
       "      <td>All items less food and energy</td>\n",
       "      <td>1</td>\n",
       "      <td>T</td>\n",
       "      <td>360</td>\n",
       "    </tr>\n",
       "    <tr>\n",
       "      <th>9</th>\n",
       "      <td>9</td>\n",
       "      <td>SA0L2</td>\n",
       "      <td>All items less shelter</td>\n",
       "      <td>1</td>\n",
       "      <td>T</td>\n",
       "      <td>361</td>\n",
       "    </tr>\n",
       "  </tbody>\n",
       "</table>\n",
       "</div>"
      ],
      "text/plain": [
       "   Unnamed: 0 item_code                                          item_name  \\\n",
       "0           0       AA0                               All items - old base   \n",
       "1           1      AA0R  Purchasing power of the consumer dollar - old ...   \n",
       "2           2       SA0                                          All items   \n",
       "3           3      SA0E                                             Energy   \n",
       "4           4     SA0L1                                All items less food   \n",
       "5           5    SA0L12                    All items less food and shelter   \n",
       "6           6   SA0L12E           All items less food, shelter, and energy   \n",
       "7           7  SA0L12E4  All items less food, shelter, energy, and used...   \n",
       "8           8    SA0L1E                     All items less food and energy   \n",
       "9           9     SA0L2                             All items less shelter   \n",
       "\n",
       "   display_level selectable  sort_sequence  \n",
       "0              0          T              2  \n",
       "1              0          T            400  \n",
       "2              0          T              1  \n",
       "3              1          T            375  \n",
       "4              1          T            359  \n",
       "5              1          T            362  \n",
       "6              1          T            363  \n",
       "7              1          T            364  \n",
       "8              1          T            360  \n",
       "9              1          T            361  "
      ]
     },
     "execution_count": 11,
     "metadata": {},
     "output_type": "execute_result"
    }
   ],
   "source": [
    "#reading the head of the given dataset\n",
    "df = pd.read_csv(\"wine.csv\")\n",
    "df.head(10)"
   ]
  },
  {
   "cell_type": "code",
   "execution_count": 12,
   "id": "d99ebb7f",
   "metadata": {},
   "outputs": [
    {
     "name": "stdout",
     "output_type": "stream",
     "text": [
      "363\n"
     ]
    }
   ],
   "source": [
    "print(df.loc[6,\"sort_sequence\"])"
   ]
  },
  {
   "cell_type": "code",
   "execution_count": 13,
   "id": "6d4ce0a6",
   "metadata": {},
   "outputs": [
    {
     "name": "stdout",
     "output_type": "stream",
     "text": [
      "   Unnamed: 0 item_code                                          item_name  \\\n",
      "0           0       AA0                               All items - old base   \n",
      "1           1      AA0R  Purchasing power of the consumer dollar - old ...   \n",
      "2           2       SA0                                          All items   \n",
      "3           3      SA0E                                             Energy   \n",
      "4           4     SA0L1                                All items less food   \n",
      "5           5    SA0L12                    All items less food and shelter   \n",
      "6           6   SA0L12E           All items less food, shelter, and energy   \n",
      "7           7  SA0L12E4  All items less food, shelter, energy, and used...   \n",
      "8           8    SA0L1E                     All items less food and energy   \n",
      "9           9     SA0L2                             All items less shelter   \n",
      "\n",
      "   display_level selectable  sort_sequence  \n",
      "0              0          T              2  \n",
      "1              0          T            400  \n",
      "2              0          T              1  \n",
      "3              1          T            375  \n",
      "4              1          T            359  \n",
      "5              1          T            362  \n",
      "6              1          T            363  \n",
      "7              1          T            364  \n",
      "8              1          T            360  \n",
      "9              1          T            361  \n"
     ]
    }
   ],
   "source": [
    "df2 = df.loc[0:9]\n",
    "print(df2)"
   ]
  },
  {
   "cell_type": "code",
   "execution_count": 14,
   "id": "cd7100e2",
   "metadata": {},
   "outputs": [],
   "source": [
    "df2.to_pickle(\"p.pkl\")"
   ]
  },
  {
   "cell_type": "code",
   "execution_count": 15,
   "id": "4d331f55",
   "metadata": {},
   "outputs": [
    {
     "name": "stdout",
     "output_type": "stream",
     "text": [
      "   Unnamed: 0 item_code                                          item_name  \\\n",
      "0           0       AA0                               All items - old base   \n",
      "1           1      AA0R  Purchasing power of the consumer dollar - old ...   \n",
      "2           2       SA0                                          All items   \n",
      "3           3      SA0E                                             Energy   \n",
      "4           4     SA0L1                                All items less food   \n",
      "5           5    SA0L12                    All items less food and shelter   \n",
      "6           6   SA0L12E           All items less food, shelter, and energy   \n",
      "7           7  SA0L12E4  All items less food, shelter, energy, and used...   \n",
      "8           8    SA0L1E                     All items less food and energy   \n",
      "9           9     SA0L2                             All items less shelter   \n",
      "\n",
      "   display_level selectable  sort_sequence  \n",
      "0              0          T              2  \n",
      "1              0          T            400  \n",
      "2              0          T              1  \n",
      "3              1          T            375  \n",
      "4              1          T            359  \n",
      "5              1          T            362  \n",
      "6              1          T            363  \n",
      "7              1          T            364  \n",
      "8              1          T            360  \n",
      "9              1          T            361  \n"
     ]
    }
   ],
   "source": [
    "df3  = pd.read_pickle(\"p.pkl\")\n",
    "print(df3)"
   ]
  }
 ],
 "metadata": {
  "kernelspec": {
   "display_name": "Python 3 (ipykernel)",
   "language": "python",
   "name": "python3"
  },
  "language_info": {
   "codemirror_mode": {
    "name": "ipython",
    "version": 3
   },
   "file_extension": ".py",
   "mimetype": "text/x-python",
   "name": "python",
   "nbconvert_exporter": "python",
   "pygments_lexer": "ipython3",
   "version": "3.9.13"
  }
 },
 "nbformat": 4,
 "nbformat_minor": 5
}
