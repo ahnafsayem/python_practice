{
 "cells": [
  {
   "cell_type": "markdown",
   "id": "ad95e964",
   "metadata": {},
   "source": [
    "## 1. Reverse a List"
   ]
  },
  {
   "cell_type": "code",
   "execution_count": 1,
   "id": "f0f53fa2",
   "metadata": {},
   "outputs": [
    {
     "name": "stdout",
     "output_type": "stream",
     "text": [
      "[6, 5, 4, 3, 2, 1]\n"
     ]
    }
   ],
   "source": [
    "list01 = [1, 2, 3, 4, 5, 6]\n",
    "list01.reverse()\n",
    "print(list01)"
   ]
  },
  {
   "cell_type": "markdown",
   "id": "32c79e43",
   "metadata": {},
   "source": [
    "## 2. Concatenate two lists index-wise"
   ]
  },
  {
   "cell_type": "code",
   "execution_count": 2,
   "id": "00cb27b0",
   "metadata": {},
   "outputs": [
    {
     "name": "stdout",
     "output_type": "stream",
     "text": [
      "['1a', '2b', '3c', '4d', '5e']\n"
     ]
    }
   ],
   "source": [
    "list01 = [1, 2, 3, 4, 5]\n",
    "list02 = ['a', 'b', 'c', 'd', 'e']\n",
    "\n",
    "result = []\n",
    "for i in range(len(list01)):\n",
    "    result.append(str(list01[i]) + list02[i])\n",
    "\n",
    "print(result)"
   ]
  },
  {
   "cell_type": "markdown",
   "id": "bfacf258",
   "metadata": {},
   "source": [
    "## 3. Turn every number of a list into its square."
   ]
  },
  {
   "cell_type": "code",
   "execution_count": 3,
   "id": "291abccf",
   "metadata": {},
   "outputs": [
    {
     "name": "stdout",
     "output_type": "stream",
     "text": [
      "[1, 4, 9, 16, 25]\n"
     ]
    }
   ],
   "source": [
    "list01 = [1, 2, 3, 4, 5]\n",
    "\n",
    "for i in range(len(list01)):\n",
    "    list01[i] = list01[i] ** 2\n",
    "\n",
    "print(list01)"
   ]
  },
  {
   "cell_type": "markdown",
   "id": "5a4adcb6",
   "metadata": {},
   "source": [
    "## 4. Remove empty strings from a list of strings"
   ]
  },
  {
   "cell_type": "code",
   "execution_count": 4,
   "id": "276938c5",
   "metadata": {},
   "outputs": [
    {
     "name": "stdout",
     "output_type": "stream",
     "text": [
      "['Code', 'Studio', 'Academy']\n"
     ]
    }
   ],
   "source": [
    "list01 = ['Code', '', 'Studio', 'Academy', '']\n",
    "\n",
    "result = []\n",
    "for item in list01:\n",
    "    if item != '':\n",
    "        result.append(item)\n",
    "\n",
    "print(result)"
   ]
  },
  {
   "cell_type": "markdown",
   "id": "b144a5d0",
   "metadata": {},
   "source": [
    "## 5.Add a list of elements to a set."
   ]
  },
  {
   "cell_type": "code",
   "execution_count": 5,
   "id": "d9938363",
   "metadata": {},
   "outputs": [
    {
     "name": "stdout",
     "output_type": "stream",
     "text": [
      "{'Blue', 'Orange', 'Yellow', 'Red', 'Green', 'Black'}\n"
     ]
    }
   ],
   "source": [
    "set01 = {\"Yellow\", \"Orange\", \"Black\"} \n",
    "list01 = [\"Blue\", \"Green\", \"Red\"]\n",
    "\n",
    "set01.update(list01)\n",
    "print(set01)"
   ]
  },
  {
   "cell_type": "markdown",
   "id": "d9df3ca1",
   "metadata": {},
   "source": [
    "## 6. Return a set of elements present in Set A or B, but not both."
   ]
  },
  {
   "cell_type": "code",
   "execution_count": 6,
   "id": "eff9a423",
   "metadata": {},
   "outputs": [
    {
     "name": "stdout",
     "output_type": "stream",
     "text": [
      "{1, 2, 3, 6, 7, 8}\n"
     ]
    }
   ],
   "source": [
    "set_A = {1, 2, 3, 4, 5}\n",
    "set_B = {4, 5, 6, 7, 8}\n",
    "\n",
    "result = set_A ^ set_B\n",
    "\n",
    "print(result)"
   ]
  },
  {
   "cell_type": "markdown",
   "id": "839f1c53",
   "metadata": {},
   "source": [
    "## 7.Convert two lists into a dictionary."
   ]
  },
  {
   "cell_type": "code",
   "execution_count": 7,
   "id": "058f77d6",
   "metadata": {},
   "outputs": [
    {
     "name": "stdout",
     "output_type": "stream",
     "text": [
      "{'Ten': 10, 'Twenty': 20, 'Thirty': 30}\n"
     ]
    }
   ],
   "source": [
    "keys = ['Ten', 'Twenty', 'Thirty']\n",
    "values = [10, 20, 30]\n",
    "\n",
    "dict01 = dict(zip(keys, values))\n",
    "\n",
    "print(dict01)"
   ]
  },
  {
   "cell_type": "markdown",
   "id": "a2833470",
   "metadata": {},
   "source": [
    "## 8.Merge two dictionary into one."
   ]
  },
  {
   "cell_type": "code",
   "execution_count": 8,
   "id": "7602765a",
   "metadata": {},
   "outputs": [
    {
     "name": "stdout",
     "output_type": "stream",
     "text": [
      "{'Ten': 10, 'Twenty': 20, 'Thirty': 30, 'Fourty': 40, 'Fifty': 50}\n"
     ]
    }
   ],
   "source": [
    "dict1 = {'Ten': 10, 'Twenty': 20, 'Thirty': 30} \n",
    "dict2 = {'Thirty': 30, 'Fourty': 40, 'Fifty': 50}\n",
    "\n",
    "dict1.update(dict2) \n",
    "\n",
    "print(dict1)"
   ]
  },
  {
   "cell_type": "markdown",
   "id": "dd454507",
   "metadata": {},
   "source": [
    "## 9. Rename a key of a Dictionary."
   ]
  },
  {
   "cell_type": "code",
   "execution_count": 9,
   "id": "4b359b0d",
   "metadata": {},
   "outputs": [
    {
     "name": "stdout",
     "output_type": "stream",
     "text": [
      "{'new_key': 'value'}\n"
     ]
    }
   ],
   "source": [
    "dict01 = {'old_key': 'value'}\n",
    "\n",
    "dict01['new_key'] = dict01.pop('old_key')\n",
    "\n",
    "print(dict01)"
   ]
  },
  {
   "cell_type": "markdown",
   "id": "544dad11",
   "metadata": {},
   "source": [
    "## 10. Sort a Tuple by Second Item"
   ]
  },
  {
   "cell_type": "code",
   "execution_count": 10,
   "id": "5f73dd5b",
   "metadata": {},
   "outputs": [
    {
     "name": "stdout",
     "output_type": "stream",
     "text": [
      "[(1, 'A'), (2, 'B'), (3, 'C')]\n"
     ]
    }
   ],
   "source": [
    "tuple01 = ((2, 'B'), (1, 'A'), (3, 'C'))\n",
    "\n",
    "def get_second_item(t):\n",
    "    return t[1]\n",
    "\n",
    "sorted_tuple = sorted(tuple01, key=get_second_item)\n",
    "\n",
    "print(sorted_tuple)"
   ]
  }
 ],
 "metadata": {
  "kernelspec": {
   "display_name": "Python 3 (ipykernel)",
   "language": "python",
   "name": "python3"
  },
  "language_info": {
   "codemirror_mode": {
    "name": "ipython",
    "version": 3
   },
   "file_extension": ".py",
   "mimetype": "text/x-python",
   "name": "python",
   "nbconvert_exporter": "python",
   "pygments_lexer": "ipython3",
   "version": "3.9.13"
  }
 },
 "nbformat": 4,
 "nbformat_minor": 5
}
