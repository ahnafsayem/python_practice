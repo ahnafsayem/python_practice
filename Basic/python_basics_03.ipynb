{
  "nbformat": 4,
  "nbformat_minor": 0,
  "metadata": {
    "colab": {
      "provenance": [],
      "authorship_tag": "ABX9TyOoUX/IA2mN9uyViDJOtsQd",
      "include_colab_link": true
    },
    "kernelspec": {
      "name": "python3",
      "display_name": "Python 3"
    },
    "language_info": {
      "name": "python"
    }
  },
  "cells": [
    {
      "cell_type": "markdown",
      "metadata": {
        "id": "view-in-github",
        "colab_type": "text"
      },
      "source": [
        "<a href=\"https://colab.research.google.com/github/ahnafsayem/python_practice/blob/main/Basic/python_basics_03.ipynb\" target=\"_parent\"><img src=\"https://colab.research.google.com/assets/colab-badge.svg\" alt=\"Open In Colab\"/></a>"
      ]
    },
    {
      "cell_type": "markdown",
      "source": [
        "# *Functions in Python*"
      ],
      "metadata": {
        "id": "MCFZLLk6TF-G"
      }
    },
    {
      "cell_type": "code",
      "source": [
        "#Function for Adding two values\n",
        "\n",
        "def add(a,b):\n",
        "  total=a+b\n",
        "  return total\n",
        "\n",
        "calc=add(10,20)\n",
        "print(\"Summation of 10 and 20 is\",calc)"
      ],
      "metadata": {
        "colab": {
          "base_uri": "https://localhost:8080/"
        },
        "id": "SAyI5WkiUms9",
        "outputId": "ae8191cc-ede4-40bd-ea03-b31dca5f491e"
      },
      "execution_count": null,
      "outputs": [
        {
          "output_type": "stream",
          "name": "stdout",
          "text": [
            "Summation of 10 and 20 is 30\n"
          ]
        }
      ]
    },
    {
      "cell_type": "code",
      "source": [
        "#Using Specific Arguments\n",
        "\n",
        "def calculate(a,b,c):\n",
        "  total=b+(a*c)\n",
        "  return total\n",
        "\n",
        "calc=calculate(a=10,b=20,c=30) #Named Arguments\n",
        "print(\"Total result is\",calc)"
      ],
      "metadata": {
        "colab": {
          "base_uri": "https://localhost:8080/"
        },
        "id": "bBr_QlI3Vs79",
        "outputId": "7667d7df-737f-4dd9-bded-f7aace8d2771"
      },
      "execution_count": null,
      "outputs": [
        {
          "output_type": "stream",
          "name": "stdout",
          "text": [
            "Total result is 320\n"
          ]
        }
      ]
    },
    {
      "cell_type": "code",
      "source": [
        "#Setting Default Value\n",
        "\n",
        "def calculate(a,b=0):\n",
        "  total=a+b\n",
        "  return total\n",
        "\n",
        "calc=calculate(40) #Default Value\n",
        "print(\"Total result is\",calc)"
      ],
      "metadata": {
        "colab": {
          "base_uri": "https://localhost:8080/"
        },
        "id": "s2Kb8cE3W6r8",
        "outputId": "61e8ad5a-df33-4f8d-82bf-9d798a109015"
      },
      "execution_count": null,
      "outputs": [
        {
          "output_type": "stream",
          "name": "stdout",
          "text": [
            "Total result is 40\n"
          ]
        }
      ]
    },
    {
      "cell_type": "code",
      "source": [
        "#Setting Default Value\n",
        "\n",
        "def calculate(a,b=0):\n",
        "  total=a+b\n",
        "  return total\n",
        "\n",
        "calc=calculate(40,50) #Default Value replaced with given value\n",
        "print(\"Total result is\",calc)"
      ],
      "metadata": {
        "colab": {
          "base_uri": "https://localhost:8080/"
        },
        "id": "Co-A0DaIXXiH",
        "outputId": "799c2b8f-5652-4a55-e403-87b656420f09"
      },
      "execution_count": null,
      "outputs": [
        {
          "output_type": "stream",
          "name": "stdout",
          "text": [
            "Total result is 90\n"
          ]
        }
      ]
    },
    {
      "cell_type": "code",
      "source": [
        "#Function for Calculating Total Expenses\n",
        "\n",
        "def calculate_total(expense):\n",
        "  total=0\n",
        "  for item in expense:\n",
        "    total = total+ item\n",
        "  return total\n",
        "\n",
        "Ahnaf_expense = [1100,1200,1300,1400]\n",
        "Sayem_expense = [1500,1600,1700,1800]\n",
        "\n",
        "print(\"Total expenses of Ahnaf is\",calculate_total(Ahnaf_expense))\n",
        "print(\"Total expenses of Sayem is\",calculate_total(Sayem_expense))"
      ],
      "metadata": {
        "colab": {
          "base_uri": "https://localhost:8080/"
        },
        "id": "OaDigVa0TKkG",
        "outputId": "dabc26c8-a194-4b74-e5c8-84bcd3da4a67"
      },
      "execution_count": null,
      "outputs": [
        {
          "output_type": "stream",
          "name": "stdout",
          "text": [
            "Total expenses of Ahnaf is 5000\n",
            "Total expenses of Sayem is 6600\n"
          ]
        }
      ]
    },
    {
      "cell_type": "markdown",
      "source": [],
      "metadata": {
        "id": "MkwSKeazXtw_"
      }
    },
    {
      "cell_type": "markdown",
      "source": [
        "# *Dictionaries in Python*"
      ],
      "metadata": {
        "id": "ZPjyeDL8iDfa"
      }
    },
    {
      "cell_type": "code",
      "source": [
        "\"\"\"\n",
        "Dictionaries are used to store data values in key:value pairs.\n",
        "It is a collection which is ordered*,changeable and do not allow duplicates.\n",
        "\n",
        "\"\"\""
      ],
      "metadata": {
        "id": "e3H0bWI7pimp"
      },
      "execution_count": null,
      "outputs": []
    },
    {
      "cell_type": "code",
      "source": [
        "#Creating Dictionaries\n",
        "phone_no = {\"Ahnaf\":123456789,\"Sayem\":987654321,\"Meem\":1122334455}\n",
        "print(phone_no)"
      ],
      "metadata": {
        "colab": {
          "base_uri": "https://localhost:8080/"
        },
        "id": "N-IJaaoJjOeI",
        "outputId": "bb287f08-7967-47c9-9716-c1d6abde9002"
      },
      "execution_count": 1,
      "outputs": [
        {
          "output_type": "stream",
          "name": "stdout",
          "text": [
            "{'Ahnaf': 123456789, 'Sayem': 987654321, 'Meem': 1122334455}\n"
          ]
        }
      ]
    },
    {
      "cell_type": "code",
      "source": [
        "#Adding more informations\n",
        "phone_no[\"XYZ\"]=123456789\n",
        "print(phone_no)"
      ],
      "metadata": {
        "colab": {
          "base_uri": "https://localhost:8080/"
        },
        "id": "YE3Xlj8unfEf",
        "outputId": "7598383f-61d0-40d7-e95a-b4d38086b4ae"
      },
      "execution_count": 2,
      "outputs": [
        {
          "output_type": "stream",
          "name": "stdout",
          "text": [
            "{'Ahnaf': 123456789, 'Sayem': 987654321, 'Meem': 1122334455, 'XYZ': 123456789}\n"
          ]
        }
      ]
    },
    {
      "cell_type": "code",
      "source": [
        "#Deleting from Dictionary\n",
        "del phone_no[\"XYZ\"]\n",
        "print(phone_no)"
      ],
      "metadata": {
        "colab": {
          "base_uri": "https://localhost:8080/"
        },
        "id": "P4ojN0wyn3pF",
        "outputId": "b1740ff9-2380-4628-c5fa-493d89fa6ba5"
      },
      "execution_count": 3,
      "outputs": [
        {
          "output_type": "stream",
          "name": "stdout",
          "text": [
            "{'Ahnaf': 123456789, 'Sayem': 987654321, 'Meem': 1122334455}\n"
          ]
        }
      ]
    },
    {
      "cell_type": "code",
      "source": [
        "#Printing all\n",
        "for i in phone_no: #i refers to the \"key\" values\n",
        "  print(\"key:\",i,\"value:\",phone_no[i])"
      ],
      "metadata": {
        "colab": {
          "base_uri": "https://localhost:8080/"
        },
        "id": "gPPO06xLoE7b",
        "outputId": "3461ac3f-1cd9-49c8-8388-f0ca0371c456"
      },
      "execution_count": 6,
      "outputs": [
        {
          "output_type": "stream",
          "name": "stdout",
          "text": [
            "key: Ahnaf value: 123456789\n",
            "key: Sayem value: 987654321\n",
            "key: Meem value: 1122334455\n"
          ]
        }
      ]
    },
    {
      "cell_type": "code",
      "source": [
        "#checking01\n",
        "\"Ahnaf\" in phone_no"
      ],
      "metadata": {
        "colab": {
          "base_uri": "https://localhost:8080/"
        },
        "id": "FTHshF72orlT",
        "outputId": "23f7b299-3210-48b1-df2c-0d72345464db"
      },
      "execution_count": 7,
      "outputs": [
        {
          "output_type": "execute_result",
          "data": {
            "text/plain": [
              "True"
            ]
          },
          "metadata": {},
          "execution_count": 7
        }
      ]
    },
    {
      "cell_type": "code",
      "source": [
        "#checking02\n",
        "\"XYZ\" in phone_no"
      ],
      "metadata": {
        "colab": {
          "base_uri": "https://localhost:8080/"
        },
        "outputId": "a0443e5a-2c42-49bb-ab96-b4e633061270",
        "id": "MPmhGsPio5mz"
      },
      "execution_count": 9,
      "outputs": [
        {
          "output_type": "execute_result",
          "data": {
            "text/plain": [
              "False"
            ]
          },
          "metadata": {},
          "execution_count": 9
        }
      ]
    },
    {
      "cell_type": "code",
      "source": [
        "#clear dictionary\n",
        "\n",
        "#phone_no.clear()\n",
        "#print(phone_no)"
      ],
      "metadata": {
        "id": "rtyB0nGppCAk"
      },
      "execution_count": 10,
      "outputs": []
    },
    {
      "cell_type": "markdown",
      "source": [
        "# *Tuples in Python*"
      ],
      "metadata": {
        "id": "iE7YdhErpO8t"
      }
    },
    {
      "cell_type": "code",
      "source": [
        "\"\"\"\n",
        "Tuples is a list of values grouped together.\n",
        "Tuples are Immutable. So it can not be changed\n",
        "\n",
        "In lists all values have the same meaning(Homogeneous)\n",
        "In tuples all values have different meaning(Heterogeneous)\n",
        "\n",
        "List Examples:\n",
        "expense_list = [1100,1200,1300,1400] #here every item is an expense\n",
        "Name_list = [\"Ahnaf\",\"Sayem\",\"Meem\"] #here every item is a name\n",
        "\n",
        "Tuples Examples:\n",
        "points=(10,20) #10 is x coordinate, 20 is y coordinate\n",
        "Address=(1200,\"Dhaka\",\"Bangladesh\") #postal,City,Country\n",
        "\n",
        "\"\"\""
      ],
      "metadata": {
        "id": "4BXe8mCIpWZC"
      },
      "execution_count": null,
      "outputs": []
    },
    {
      "cell_type": "code",
      "source": [],
      "metadata": {
        "id": "_MQpEIpRp2n6"
      },
      "execution_count": null,
      "outputs": []
    }
  ]
}